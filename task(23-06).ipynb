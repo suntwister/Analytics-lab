{
  "nbformat": 4,
  "nbformat_minor": 0,
  "metadata": {
    "colab": {
      "provenance": [],
      "authorship_tag": "ABX9TyNs4xAeHiJ7Bw+nCKP+KDGj",
      "include_colab_link": true
    },
    "kernelspec": {
      "name": "python3",
      "display_name": "Python 3"
    },
    "language_info": {
      "name": "python"
    }
  },
  "cells": [
    {
      "cell_type": "markdown",
      "metadata": {
        "id": "view-in-github",
        "colab_type": "text"
      },
      "source": [
        "<a href=\"https://colab.research.google.com/github/suntwister/analytics-lab/blob/main/task(23-06).ipynb\" target=\"_parent\"><img src=\"https://colab.research.google.com/assets/colab-badge.svg\" alt=\"Open In Colab\"/></a>"
      ]
    },
    {
      "cell_type": "code",
      "execution_count": 1,
      "metadata": {
        "colab": {
          "base_uri": "https://localhost:8080/"
        },
        "id": "P4WhH1Sy6kca",
        "outputId": "6a0d139d-de00-4208-b598-3266ab095142"
      },
      "outputs": [
        {
          "output_type": "stream",
          "name": "stdout",
          "text": [
            "Hi racheal\n"
          ]
        }
      ],
      "source": [
        "name = 'racheal'\n",
        "print(\"Hi\", name)"
      ]
    },
    {
      "cell_type": "code",
      "source": [
        "name = \"Alice\"\n",
        "age = 29\n",
        "salary = 65000"
      ],
      "metadata": {
        "id": "WHxnwIMh7ONM"
      },
      "execution_count": 2,
      "outputs": []
    },
    {
      "cell_type": "code",
      "source": [
        "names = [\"Alice\", \"Bob\", \"Carla\", \"David\", \"Emily\"]\n",
        "ages = [29, 45, 33, 41, 37]"
      ],
      "metadata": {
        "id": "FosMEDE17Xfs"
      },
      "execution_count": 13,
      "outputs": []
    },
    {
      "cell_type": "code",
      "source": [
        "print(names[-1])"
      ],
      "metadata": {
        "colab": {
          "base_uri": "https://localhost:8080/"
        },
        "id": "v1UaESoS7cbe",
        "outputId": "28d88d6e-3a86-46e6-9336-2042943a4ca0"
      },
      "execution_count": 6,
      "outputs": [
        {
          "output_type": "stream",
          "name": "stdout",
          "text": [
            "Emily\n"
          ]
        }
      ]
    },
    {
      "cell_type": "code",
      "source": [
        "print(f\"user {names[0]} is {ages[0]} years old\")"
      ],
      "metadata": {
        "colab": {
          "base_uri": "https://localhost:8080/"
        },
        "id": "xwB5Tzeg7m6H",
        "outputId": "aeaf1e03-f7a8-438f-a7b1-2fd9d61bfe1e"
      },
      "execution_count": 8,
      "outputs": [
        {
          "output_type": "stream",
          "name": "stdout",
          "text": [
            "user Alice is 29 years old\n"
          ]
        }
      ]
    },
    {
      "cell_type": "code",
      "source": [
        "for names,ages in zip(names,ages):\n",
        "  print(f\"user {name} is {ages} years old today\")"
      ],
      "metadata": {
        "colab": {
          "base_uri": "https://localhost:8080/"
        },
        "id": "JAfR9V2k8IxX",
        "outputId": "d19824b6-cdb2-49d1-c3dd-9924a3d571cc"
      },
      "execution_count": 14,
      "outputs": [
        {
          "output_type": "stream",
          "name": "stdout",
          "text": [
            "user Alice is 29 years old today\n",
            "user Alice is 45 years old today\n",
            "user Alice is 33 years old today\n",
            "user Alice is 41 years old today\n",
            "user Alice is 37 years old today\n"
          ]
        }
      ]
    },
    {
      "cell_type": "code",
      "source": [
        "employees = [\n",
        "    {\"name\": \"Alice\", \"age\": 29, \"gender\": \"Female\", \"department\": \"Sales\", \"salary\": 65000},\n",
        "    {\"name\": \"Bob\", \"age\": 45, \"gender\": \"Male\", \"department\": \"HR\", \"salary\": 72000},\n",
        "    {\"name\": \"Carla\", \"age\": 33, \"gender\": \"Female\", \"department\": \"Finance\", \"salary\": 80000},\n",
        "    {\"name\": \"David\", \"age\": 41, \"gender\": \"Male\", \"department\": \"Sales\", \"salary\": 58000},\n",
        "    {\"name\": \"Emily\", \"age\": 37, \"gender\": \"Female\", \"department\": \"HR\", \"salary\": 70000}\n",
        "]\n"
      ],
      "metadata": {
        "id": "RLonhUug9Ddg"
      },
      "execution_count": 15,
      "outputs": []
    },
    {
      "cell_type": "code",
      "source": [
        "#  Print every employee’s name and department\n",
        "for emp in employees:\n",
        "  print(f\"{emp['name']} works in {emp['department']} department\")"
      ],
      "metadata": {
        "colab": {
          "base_uri": "https://localhost:8080/"
        },
        "id": "Re3e1xfu-FFG",
        "outputId": "ec27aa7c-8687-4984-a483-0d15706d1bc0"
      },
      "execution_count": 24,
      "outputs": [
        {
          "output_type": "stream",
          "name": "stdout",
          "text": [
            "Alice works in Sales department\n",
            "Bob works in HR department\n",
            "Carla works in Finance department\n",
            "David works in Sales department\n",
            "Emily works in HR department\n"
          ]
        }
      ]
    },
    {
      "cell_type": "code",
      "source": [
        "# Print names of employees older than 35\n",
        "for emp in employees:\n",
        "  if emp['age'] > 35:\n",
        "    print(f\"{emp['name']} is older than 35\")"
      ],
      "metadata": {
        "colab": {
          "base_uri": "https://localhost:8080/"
        },
        "id": "UkZ_KA8c_RRY",
        "outputId": "241a137d-19b3-45a7-950f-74586fb9f952"
      },
      "execution_count": 23,
      "outputs": [
        {
          "output_type": "stream",
          "name": "stdout",
          "text": [
            "Bob is older than 35\n",
            "David is older than 35\n",
            "Emily is older than 35\n"
          ]
        }
      ]
    },
    {
      "cell_type": "code",
      "source": [
        "# prompt: Count how many female employees there are\n",
        "\n",
        "female_count = 0\n",
        "for emp in employees:\n",
        "  if emp['gender'] == 'Female':\n",
        "    female_count += 1\n",
        "\n",
        "print(f\"There are {female_count} female employees.\")"
      ],
      "metadata": {
        "colab": {
          "base_uri": "https://localhost:8080/"
        },
        "id": "BaZKqFsP_lf-",
        "outputId": "fecfd15c-bdaa-4374-863a-8de2b1816d21"
      },
      "execution_count": 26,
      "outputs": [
        {
          "output_type": "stream",
          "name": "stdout",
          "text": [
            "There are 3 female employees.\n"
          ]
        }
      ]
    },
    {
      "cell_type": "code",
      "source": [
        "# prompt: Calculate the total salary of all employees\n",
        "total_salary = sum(emp['salary'] for emp in employees)\n",
        "print(f\"Total salary of all employees: {total_salary}\")"
      ],
      "metadata": {
        "id": "DiAdGFhLAb9I"
      },
      "execution_count": null,
      "outputs": []
    }
  ]
}