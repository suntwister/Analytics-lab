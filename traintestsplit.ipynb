{
  "nbformat": 4,
  "nbformat_minor": 0,
  "metadata": {
    "colab": {
      "provenance": [],
      "authorship_tag": "ABX9TyPEQrvcQdqsour741xBHNQU",
      "include_colab_link": true
    },
    "kernelspec": {
      "name": "python3",
      "display_name": "Python 3"
    },
    "language_info": {
      "name": "python"
    }
  },
  "cells": [
    {
      "cell_type": "markdown",
      "metadata": {
        "id": "view-in-github",
        "colab_type": "text"
      },
      "source": [
        "<a href=\"https://colab.research.google.com/github/suntwister/analytics-lab/blob/main/traintestsplit.ipynb\" target=\"_parent\"><img src=\"https://colab.research.google.com/assets/colab-badge.svg\" alt=\"Open In Colab\"/></a>"
      ]
    },
    {
      "cell_type": "code",
      "execution_count": 4,
      "metadata": {
        "id": "Fel4B_O7eMTI"
      },
      "outputs": [],
      "source": [
        "import pandas as pd\n",
        "from sklearn.model_selection import train_test_split\n",
        "\n",
        "# simple housing dataset\n",
        "\n",
        "data = {\n",
        "        'rooms': [2, 3, 4, 3, 5],\n",
        "    'size_sqft': [850, 1200, 1350, 1150, 1600],\n",
        "    'price': [6.5, 10.0, 12.0, 9.8, 15.0]  # In millions\n",
        "}\n",
        "\n",
        "df =pd.DataFrame(data)\n",
        "\n",
        "x = df.drop('price', axis=1)\n",
        "y = df['price']\n",
        "\n",
        "#Train-test split\n",
        "x_train, x_test, y_train, y_test = train_test_split(x, y, test_size=0.2, random_state=42)"
      ]
    },
    {
      "cell_type": "code",
      "source": [
        "# Results\n",
        "print(\"x_train shape:\", x_train.shape)\n",
        "print(\"x_test shape:\", x_test.shape)\n",
        "print(\"y_train shape:\", y_train.shape)\n",
        "print(\"y_test shape:\", y_test.shape)"
      ],
      "metadata": {
        "colab": {
          "base_uri": "https://localhost:8080/"
        },
        "id": "4JTfjdQqgDc5",
        "outputId": "ac1ce30e-f5ec-4bb9-eb44-ec93f2e8831d"
      },
      "execution_count": 6,
      "outputs": [
        {
          "output_type": "stream",
          "name": "stdout",
          "text": [
            "x_train shape: (4, 2)\n",
            "x_test shape: (1, 2)\n",
            "y_train shape: (4,)\n",
            "y_test shape: (1,)\n"
          ]
        }
      ]
    }
  ]
}